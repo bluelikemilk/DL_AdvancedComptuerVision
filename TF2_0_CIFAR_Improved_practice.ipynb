{
  "nbformat": 4,
  "nbformat_minor": 0,
  "metadata": {
    "accelerator": "GPU",
    "colab": {
      "name": "TF2_0_CIFAR_Improved_practice.ipynb",
      "provenance": [],
      "collapsed_sections": [],
      "authorship_tag": "ABX9TyNhdA4dWyWjk0W4qP8xqKzx",
      "include_colab_link": true
    },
    "kernelspec": {
      "display_name": "Python 3",
      "name": "python3"
    },
    "language_info": {
      "name": "python"
    }
  },
  "cells": [
    {
      "cell_type": "markdown",
      "metadata": {
        "id": "view-in-github",
        "colab_type": "text"
      },
      "source": [
        "<a href=\"https://colab.research.google.com/github/bluelikemilk/DL_AdvancedComptuerVision/blob/main/TF2_0_CIFAR_Improved_practice.ipynb\" target=\"_parent\"><img src=\"https://colab.research.google.com/assets/colab-badge.svg\" alt=\"Open In Colab\"/></a>"
      ]
    },
    {
      "cell_type": "code",
      "metadata": {
        "colab": {
          "base_uri": "https://localhost:8080/"
        },
        "id": "kj7USxbIQpik",
        "outputId": "794068da-561b-467e-cf25-4e1f1b168e2e"
      },
      "source": [
        "try:\n",
        "  %tensorflow_version 2.x\n",
        "except Exception:\n",
        "  pass\n",
        "\n",
        "import tensorflow as tf\n",
        "print(tf.__version__)"
      ],
      "execution_count": 15,
      "outputs": [
        {
          "output_type": "stream",
          "name": "stdout",
          "text": [
            "2.7.0\n"
          ]
        }
      ]
    },
    {
      "cell_type": "markdown",
      "metadata": {
        "id": "mJi3s9DTQ2nF"
      },
      "source": [
        "# Load data"
      ]
    },
    {
      "cell_type": "code",
      "metadata": {
        "id": "E2mOQqLPQx0_"
      },
      "source": [
        "import numpy as np\n",
        "from tensorflow.keras.layers import Input, Dense, Conv2D, Dropout, Flatten, BatchNormalization, MaxPooling2D\n",
        "from tensorflow.keras.models import Model"
      ],
      "execution_count": 16,
      "outputs": []
    },
    {
      "cell_type": "code",
      "metadata": {
        "id": "mBT8Z6KsQzHs"
      },
      "source": [
        "cifar10 = tf.keras.datasets.cifar10\n",
        "(x_train, y_train), (x_test, y_test) = cifar10.load_data()"
      ],
      "execution_count": 17,
      "outputs": []
    },
    {
      "cell_type": "code",
      "metadata": {
        "colab": {
          "base_uri": "https://localhost:8080/"
        },
        "id": "eJ_8tPwgQ0pC",
        "outputId": "1504fc28-3fec-4b2e-e950-71a8fc548796"
      },
      "source": [
        "# print the size of input and output\n",
        "print('Input image shape: ', x_train[0].shape)\n",
        "# normalize input data \n",
        "x_train = x_train / 255.0\n",
        "x_test = x_test / 255.0\n",
        "# calculate the number of class\n",
        "K = len(set(y_train[:,0]))\n",
        "print(\"Number of class: \", K)"
      ],
      "execution_count": 18,
      "outputs": [
        {
          "output_type": "stream",
          "name": "stdout",
          "text": [
            "Input image shape:  (32, 32, 3)\n",
            "Number of class:  10\n"
          ]
        }
      ]
    },
    {
      "cell_type": "markdown",
      "metadata": {
        "id": "oxgbjv3JQ6Bf"
      },
      "source": [
        "# Build the model"
      ]
    },
    {
      "cell_type": "code",
      "metadata": {
        "id": "1VYAIf8kQ7JB"
      },
      "source": [
        "# model layers\n",
        "i = Input(shape=x_train[0].shape)\n",
        "# x = Conv2D(32, (3,3), strides=2, activation='relu')(i)\n",
        "# x = Conv2D(64, (3,3), strides=2, activation='relu')(x)\n",
        "# x = Conv2D(128, (3,3), strides=2, activation='relu')(x)\n",
        "\n",
        "x = Conv2D(32, (3,3), activation='relu', padding='same')(i) # use same padding to make sure image does not shrink\n",
        "x = BatchNormalization()(x)\n",
        "x = Conv2D(32, (3,3), activation='relu', padding='same')(x)\n",
        "x = BatchNormalization()(x)\n",
        "x = MaxPooling2D()(x) # use pooling to enable Conv to extract higher level feature\n",
        "x = Conv2D(64, (3,3), activation='relu', padding='same')(x)\n",
        "x = BatchNormalization()(x)\n",
        "x = Conv2D(64, (3,3), activation='relu', padding='same')(x)\n",
        "x = BatchNormalization()(x)\n",
        "x = MaxPooling2D()(x)\n",
        "x = Conv2D(128, (3,3), activation='relu', padding='same')(x)\n",
        "x = BatchNormalization()(x)\n",
        "x = Conv2D(128, (3,3), activation='relu', padding='same')(x)\n",
        "x = BatchNormalization()(x)\n",
        "x = MaxPooling2D()(x)\n",
        "\n",
        "x = Flatten()(x)\n",
        "x = Dropout(0.2)(x)\n",
        "x = Dense(1024, activation='relu')(x)\n",
        "x = Dropout(0.2)(x)\n",
        "x = Dense(K, activation='softmax')(x)\n",
        "\n",
        "model = Model(i, x)"
      ],
      "execution_count": 19,
      "outputs": []
    },
    {
      "cell_type": "code",
      "metadata": {
        "id": "imZgsSS_Q8mR",
        "colab": {
          "base_uri": "https://localhost:8080/",
          "height": 749
        },
        "outputId": "fbc5a660-f2d2-48a8-99a4-de0584dffe05"
      },
      "source": [
        "# compile model\n",
        "model.compile(optimizer='adam',\n",
        "              loss = 'sparse_categorical_crossentropy',\n",
        "              metrics=['accuracy'])\n",
        "\n",
        "# fit the model\n",
        "r = model.fit(x_train, y_train, validation_data=(x_test, y_test), epochs=20)"
      ],
      "execution_count": 20,
      "outputs": [
        {
          "output_type": "stream",
          "name": "stdout",
          "text": [
            "Epoch 1/20\n",
            "1563/1563 [==============================] - 34s 21ms/step - loss: 1.3120 - accuracy: 0.5473 - val_loss: 1.1149 - val_accuracy: 0.6166\n",
            "Epoch 2/20\n",
            "1563/1563 [==============================] - 33s 21ms/step - loss: 0.8496 - accuracy: 0.7064 - val_loss: 0.9039 - val_accuracy: 0.6886\n",
            "Epoch 3/20\n",
            "1563/1563 [==============================] - 32s 20ms/step - loss: 0.6934 - accuracy: 0.7613 - val_loss: 0.7495 - val_accuracy: 0.7441\n",
            "Epoch 4/20\n",
            "1563/1563 [==============================] - 32s 20ms/step - loss: 0.5882 - accuracy: 0.7989 - val_loss: 0.7362 - val_accuracy: 0.7524\n",
            "Epoch 5/20\n",
            "1563/1563 [==============================] - 33s 21ms/step - loss: 0.4980 - accuracy: 0.8280 - val_loss: 0.6371 - val_accuracy: 0.7923\n",
            "Epoch 6/20\n",
            "1563/1563 [==============================] - 34s 21ms/step - loss: 0.4233 - accuracy: 0.8552 - val_loss: 0.5678 - val_accuracy: 0.8115\n",
            "Epoch 7/20\n",
            "1563/1563 [==============================] - 33s 21ms/step - loss: 0.3568 - accuracy: 0.8763 - val_loss: 0.6321 - val_accuracy: 0.8108\n",
            "Epoch 8/20\n",
            "1563/1563 [==============================] - 32s 21ms/step - loss: 0.2992 - accuracy: 0.8966 - val_loss: 0.5909 - val_accuracy: 0.8207\n",
            "Epoch 9/20\n",
            "1563/1563 [==============================] - 31s 20ms/step - loss: 0.2613 - accuracy: 0.9098 - val_loss: 0.9796 - val_accuracy: 0.7427\n",
            "Epoch 10/20\n",
            "1563/1563 [==============================] - 32s 20ms/step - loss: 0.2249 - accuracy: 0.9234 - val_loss: 0.6337 - val_accuracy: 0.8292\n",
            "Epoch 11/20\n",
            "1563/1563 [==============================] - 32s 21ms/step - loss: 0.1980 - accuracy: 0.9324 - val_loss: 0.7972 - val_accuracy: 0.7929\n",
            "Epoch 12/20\n",
            " 945/1563 [=================>............] - ETA: 12s - loss: 0.1598 - accuracy: 0.9454"
          ]
        },
        {
          "output_type": "error",
          "ename": "KeyboardInterrupt",
          "evalue": "ignored",
          "traceback": [
            "\u001b[0;31m---------------------------------------------------------------------------\u001b[0m",
            "\u001b[0;31mKeyboardInterrupt\u001b[0m                         Traceback (most recent call last)",
            "\u001b[0;32m<ipython-input-20-5e98665a935e>\u001b[0m in \u001b[0;36m<module>\u001b[0;34m()\u001b[0m\n\u001b[1;32m      5\u001b[0m \u001b[0;34m\u001b[0m\u001b[0m\n\u001b[1;32m      6\u001b[0m \u001b[0;31m# fit the model\u001b[0m\u001b[0;34m\u001b[0m\u001b[0;34m\u001b[0m\u001b[0;34m\u001b[0m\u001b[0m\n\u001b[0;32m----> 7\u001b[0;31m \u001b[0mr\u001b[0m \u001b[0;34m=\u001b[0m \u001b[0mmodel\u001b[0m\u001b[0;34m.\u001b[0m\u001b[0mfit\u001b[0m\u001b[0;34m(\u001b[0m\u001b[0mx_train\u001b[0m\u001b[0;34m,\u001b[0m \u001b[0my_train\u001b[0m\u001b[0;34m,\u001b[0m \u001b[0mvalidation_data\u001b[0m\u001b[0;34m=\u001b[0m\u001b[0;34m(\u001b[0m\u001b[0mx_test\u001b[0m\u001b[0;34m,\u001b[0m \u001b[0my_test\u001b[0m\u001b[0;34m)\u001b[0m\u001b[0;34m,\u001b[0m \u001b[0mepochs\u001b[0m\u001b[0;34m=\u001b[0m\u001b[0;36m20\u001b[0m\u001b[0;34m)\u001b[0m\u001b[0;34m\u001b[0m\u001b[0;34m\u001b[0m\u001b[0m\n\u001b[0m",
            "\u001b[0;32m/usr/local/lib/python3.7/dist-packages/keras/utils/traceback_utils.py\u001b[0m in \u001b[0;36merror_handler\u001b[0;34m(*args, **kwargs)\u001b[0m\n\u001b[1;32m     62\u001b[0m     \u001b[0mfiltered_tb\u001b[0m \u001b[0;34m=\u001b[0m \u001b[0;32mNone\u001b[0m\u001b[0;34m\u001b[0m\u001b[0;34m\u001b[0m\u001b[0m\n\u001b[1;32m     63\u001b[0m     \u001b[0;32mtry\u001b[0m\u001b[0;34m:\u001b[0m\u001b[0;34m\u001b[0m\u001b[0;34m\u001b[0m\u001b[0m\n\u001b[0;32m---> 64\u001b[0;31m       \u001b[0;32mreturn\u001b[0m \u001b[0mfn\u001b[0m\u001b[0;34m(\u001b[0m\u001b[0;34m*\u001b[0m\u001b[0margs\u001b[0m\u001b[0;34m,\u001b[0m \u001b[0;34m**\u001b[0m\u001b[0mkwargs\u001b[0m\u001b[0;34m)\u001b[0m\u001b[0;34m\u001b[0m\u001b[0;34m\u001b[0m\u001b[0m\n\u001b[0m\u001b[1;32m     65\u001b[0m     \u001b[0;32mexcept\u001b[0m \u001b[0mException\u001b[0m \u001b[0;32mas\u001b[0m \u001b[0me\u001b[0m\u001b[0;34m:\u001b[0m  \u001b[0;31m# pylint: disable=broad-except\u001b[0m\u001b[0;34m\u001b[0m\u001b[0;34m\u001b[0m\u001b[0m\n\u001b[1;32m     66\u001b[0m       \u001b[0mfiltered_tb\u001b[0m \u001b[0;34m=\u001b[0m \u001b[0m_process_traceback_frames\u001b[0m\u001b[0;34m(\u001b[0m\u001b[0me\u001b[0m\u001b[0;34m.\u001b[0m\u001b[0m__traceback__\u001b[0m\u001b[0;34m)\u001b[0m\u001b[0;34m\u001b[0m\u001b[0;34m\u001b[0m\u001b[0m\n",
            "\u001b[0;32m/usr/local/lib/python3.7/dist-packages/keras/engine/training.py\u001b[0m in \u001b[0;36mfit\u001b[0;34m(self, x, y, batch_size, epochs, verbose, callbacks, validation_split, validation_data, shuffle, class_weight, sample_weight, initial_epoch, steps_per_epoch, validation_steps, validation_batch_size, validation_freq, max_queue_size, workers, use_multiprocessing)\u001b[0m\n\u001b[1;32m   1214\u001b[0m                 _r=1):\n\u001b[1;32m   1215\u001b[0m               \u001b[0mcallbacks\u001b[0m\u001b[0;34m.\u001b[0m\u001b[0mon_train_batch_begin\u001b[0m\u001b[0;34m(\u001b[0m\u001b[0mstep\u001b[0m\u001b[0;34m)\u001b[0m\u001b[0;34m\u001b[0m\u001b[0;34m\u001b[0m\u001b[0m\n\u001b[0;32m-> 1216\u001b[0;31m               \u001b[0mtmp_logs\u001b[0m \u001b[0;34m=\u001b[0m \u001b[0mself\u001b[0m\u001b[0;34m.\u001b[0m\u001b[0mtrain_function\u001b[0m\u001b[0;34m(\u001b[0m\u001b[0miterator\u001b[0m\u001b[0;34m)\u001b[0m\u001b[0;34m\u001b[0m\u001b[0;34m\u001b[0m\u001b[0m\n\u001b[0m\u001b[1;32m   1217\u001b[0m               \u001b[0;32mif\u001b[0m \u001b[0mdata_handler\u001b[0m\u001b[0;34m.\u001b[0m\u001b[0mshould_sync\u001b[0m\u001b[0;34m:\u001b[0m\u001b[0;34m\u001b[0m\u001b[0;34m\u001b[0m\u001b[0m\n\u001b[1;32m   1218\u001b[0m                 \u001b[0mcontext\u001b[0m\u001b[0;34m.\u001b[0m\u001b[0masync_wait\u001b[0m\u001b[0;34m(\u001b[0m\u001b[0;34m)\u001b[0m\u001b[0;34m\u001b[0m\u001b[0;34m\u001b[0m\u001b[0m\n",
            "\u001b[0;32m/usr/local/lib/python3.7/dist-packages/tensorflow/python/util/traceback_utils.py\u001b[0m in \u001b[0;36merror_handler\u001b[0;34m(*args, **kwargs)\u001b[0m\n\u001b[1;32m    148\u001b[0m     \u001b[0mfiltered_tb\u001b[0m \u001b[0;34m=\u001b[0m \u001b[0;32mNone\u001b[0m\u001b[0;34m\u001b[0m\u001b[0;34m\u001b[0m\u001b[0m\n\u001b[1;32m    149\u001b[0m     \u001b[0;32mtry\u001b[0m\u001b[0;34m:\u001b[0m\u001b[0;34m\u001b[0m\u001b[0;34m\u001b[0m\u001b[0m\n\u001b[0;32m--> 150\u001b[0;31m       \u001b[0;32mreturn\u001b[0m \u001b[0mfn\u001b[0m\u001b[0;34m(\u001b[0m\u001b[0;34m*\u001b[0m\u001b[0margs\u001b[0m\u001b[0;34m,\u001b[0m \u001b[0;34m**\u001b[0m\u001b[0mkwargs\u001b[0m\u001b[0;34m)\u001b[0m\u001b[0;34m\u001b[0m\u001b[0;34m\u001b[0m\u001b[0m\n\u001b[0m\u001b[1;32m    151\u001b[0m     \u001b[0;32mexcept\u001b[0m \u001b[0mException\u001b[0m \u001b[0;32mas\u001b[0m \u001b[0me\u001b[0m\u001b[0;34m:\u001b[0m\u001b[0;34m\u001b[0m\u001b[0;34m\u001b[0m\u001b[0m\n\u001b[1;32m    152\u001b[0m       \u001b[0mfiltered_tb\u001b[0m \u001b[0;34m=\u001b[0m \u001b[0m_process_traceback_frames\u001b[0m\u001b[0;34m(\u001b[0m\u001b[0me\u001b[0m\u001b[0;34m.\u001b[0m\u001b[0m__traceback__\u001b[0m\u001b[0;34m)\u001b[0m\u001b[0;34m\u001b[0m\u001b[0;34m\u001b[0m\u001b[0m\n",
            "\u001b[0;32m/usr/local/lib/python3.7/dist-packages/tensorflow/python/eager/def_function.py\u001b[0m in \u001b[0;36m__call__\u001b[0;34m(self, *args, **kwds)\u001b[0m\n\u001b[1;32m    908\u001b[0m \u001b[0;34m\u001b[0m\u001b[0m\n\u001b[1;32m    909\u001b[0m       \u001b[0;32mwith\u001b[0m \u001b[0mOptionalXlaContext\u001b[0m\u001b[0;34m(\u001b[0m\u001b[0mself\u001b[0m\u001b[0;34m.\u001b[0m\u001b[0m_jit_compile\u001b[0m\u001b[0;34m)\u001b[0m\u001b[0;34m:\u001b[0m\u001b[0;34m\u001b[0m\u001b[0;34m\u001b[0m\u001b[0m\n\u001b[0;32m--> 910\u001b[0;31m         \u001b[0mresult\u001b[0m \u001b[0;34m=\u001b[0m \u001b[0mself\u001b[0m\u001b[0;34m.\u001b[0m\u001b[0m_call\u001b[0m\u001b[0;34m(\u001b[0m\u001b[0;34m*\u001b[0m\u001b[0margs\u001b[0m\u001b[0;34m,\u001b[0m \u001b[0;34m**\u001b[0m\u001b[0mkwds\u001b[0m\u001b[0;34m)\u001b[0m\u001b[0;34m\u001b[0m\u001b[0;34m\u001b[0m\u001b[0m\n\u001b[0m\u001b[1;32m    911\u001b[0m \u001b[0;34m\u001b[0m\u001b[0m\n\u001b[1;32m    912\u001b[0m       \u001b[0mnew_tracing_count\u001b[0m \u001b[0;34m=\u001b[0m \u001b[0mself\u001b[0m\u001b[0;34m.\u001b[0m\u001b[0mexperimental_get_tracing_count\u001b[0m\u001b[0;34m(\u001b[0m\u001b[0;34m)\u001b[0m\u001b[0;34m\u001b[0m\u001b[0;34m\u001b[0m\u001b[0m\n",
            "\u001b[0;32m/usr/local/lib/python3.7/dist-packages/tensorflow/python/eager/def_function.py\u001b[0m in \u001b[0;36m_call\u001b[0;34m(self, *args, **kwds)\u001b[0m\n\u001b[1;32m    940\u001b[0m       \u001b[0;31m# In this case we have created variables on the first call, so we run the\u001b[0m\u001b[0;34m\u001b[0m\u001b[0;34m\u001b[0m\u001b[0;34m\u001b[0m\u001b[0m\n\u001b[1;32m    941\u001b[0m       \u001b[0;31m# defunned version which is guaranteed to never create variables.\u001b[0m\u001b[0;34m\u001b[0m\u001b[0;34m\u001b[0m\u001b[0;34m\u001b[0m\u001b[0m\n\u001b[0;32m--> 942\u001b[0;31m       \u001b[0;32mreturn\u001b[0m \u001b[0mself\u001b[0m\u001b[0;34m.\u001b[0m\u001b[0m_stateless_fn\u001b[0m\u001b[0;34m(\u001b[0m\u001b[0;34m*\u001b[0m\u001b[0margs\u001b[0m\u001b[0;34m,\u001b[0m \u001b[0;34m**\u001b[0m\u001b[0mkwds\u001b[0m\u001b[0;34m)\u001b[0m  \u001b[0;31m# pylint: disable=not-callable\u001b[0m\u001b[0;34m\u001b[0m\u001b[0;34m\u001b[0m\u001b[0m\n\u001b[0m\u001b[1;32m    943\u001b[0m     \u001b[0;32melif\u001b[0m \u001b[0mself\u001b[0m\u001b[0;34m.\u001b[0m\u001b[0m_stateful_fn\u001b[0m \u001b[0;32mis\u001b[0m \u001b[0;32mnot\u001b[0m \u001b[0;32mNone\u001b[0m\u001b[0;34m:\u001b[0m\u001b[0;34m\u001b[0m\u001b[0;34m\u001b[0m\u001b[0m\n\u001b[1;32m    944\u001b[0m       \u001b[0;31m# Release the lock early so that multiple threads can perform the call\u001b[0m\u001b[0;34m\u001b[0m\u001b[0;34m\u001b[0m\u001b[0;34m\u001b[0m\u001b[0m\n",
            "\u001b[0;32m/usr/local/lib/python3.7/dist-packages/tensorflow/python/eager/function.py\u001b[0m in \u001b[0;36m__call__\u001b[0;34m(self, *args, **kwargs)\u001b[0m\n\u001b[1;32m   3129\u001b[0m        filtered_flat_args) = self._maybe_define_function(args, kwargs)\n\u001b[1;32m   3130\u001b[0m     return graph_function._call_flat(\n\u001b[0;32m-> 3131\u001b[0;31m         filtered_flat_args, captured_inputs=graph_function.captured_inputs)  # pylint: disable=protected-access\n\u001b[0m\u001b[1;32m   3132\u001b[0m \u001b[0;34m\u001b[0m\u001b[0m\n\u001b[1;32m   3133\u001b[0m   \u001b[0;34m@\u001b[0m\u001b[0mproperty\u001b[0m\u001b[0;34m\u001b[0m\u001b[0;34m\u001b[0m\u001b[0m\n",
            "\u001b[0;32m/usr/local/lib/python3.7/dist-packages/tensorflow/python/eager/function.py\u001b[0m in \u001b[0;36m_call_flat\u001b[0;34m(self, args, captured_inputs, cancellation_manager)\u001b[0m\n\u001b[1;32m   1958\u001b[0m       \u001b[0;31m# No tape is watching; skip to running the function.\u001b[0m\u001b[0;34m\u001b[0m\u001b[0;34m\u001b[0m\u001b[0;34m\u001b[0m\u001b[0m\n\u001b[1;32m   1959\u001b[0m       return self._build_call_outputs(self._inference_function.call(\n\u001b[0;32m-> 1960\u001b[0;31m           ctx, args, cancellation_manager=cancellation_manager))\n\u001b[0m\u001b[1;32m   1961\u001b[0m     forward_backward = self._select_forward_and_backward_functions(\n\u001b[1;32m   1962\u001b[0m         \u001b[0margs\u001b[0m\u001b[0;34m,\u001b[0m\u001b[0;34m\u001b[0m\u001b[0;34m\u001b[0m\u001b[0m\n",
            "\u001b[0;32m/usr/local/lib/python3.7/dist-packages/tensorflow/python/eager/function.py\u001b[0m in \u001b[0;36mcall\u001b[0;34m(self, ctx, args, cancellation_manager)\u001b[0m\n\u001b[1;32m    601\u001b[0m               \u001b[0minputs\u001b[0m\u001b[0;34m=\u001b[0m\u001b[0margs\u001b[0m\u001b[0;34m,\u001b[0m\u001b[0;34m\u001b[0m\u001b[0;34m\u001b[0m\u001b[0m\n\u001b[1;32m    602\u001b[0m               \u001b[0mattrs\u001b[0m\u001b[0;34m=\u001b[0m\u001b[0mattrs\u001b[0m\u001b[0;34m,\u001b[0m\u001b[0;34m\u001b[0m\u001b[0;34m\u001b[0m\u001b[0m\n\u001b[0;32m--> 603\u001b[0;31m               ctx=ctx)\n\u001b[0m\u001b[1;32m    604\u001b[0m         \u001b[0;32melse\u001b[0m\u001b[0;34m:\u001b[0m\u001b[0;34m\u001b[0m\u001b[0;34m\u001b[0m\u001b[0m\n\u001b[1;32m    605\u001b[0m           outputs = execute.execute_with_cancellation(\n",
            "\u001b[0;32m/usr/local/lib/python3.7/dist-packages/tensorflow/python/eager/execute.py\u001b[0m in \u001b[0;36mquick_execute\u001b[0;34m(op_name, num_outputs, inputs, attrs, ctx, name)\u001b[0m\n\u001b[1;32m     57\u001b[0m     \u001b[0mctx\u001b[0m\u001b[0;34m.\u001b[0m\u001b[0mensure_initialized\u001b[0m\u001b[0;34m(\u001b[0m\u001b[0;34m)\u001b[0m\u001b[0;34m\u001b[0m\u001b[0;34m\u001b[0m\u001b[0m\n\u001b[1;32m     58\u001b[0m     tensors = pywrap_tfe.TFE_Py_Execute(ctx._handle, device_name, op_name,\n\u001b[0;32m---> 59\u001b[0;31m                                         inputs, attrs, num_outputs)\n\u001b[0m\u001b[1;32m     60\u001b[0m   \u001b[0;32mexcept\u001b[0m \u001b[0mcore\u001b[0m\u001b[0;34m.\u001b[0m\u001b[0m_NotOkStatusException\u001b[0m \u001b[0;32mas\u001b[0m \u001b[0me\u001b[0m\u001b[0;34m:\u001b[0m\u001b[0;34m\u001b[0m\u001b[0;34m\u001b[0m\u001b[0m\n\u001b[1;32m     61\u001b[0m     \u001b[0;32mif\u001b[0m \u001b[0mname\u001b[0m \u001b[0;32mis\u001b[0m \u001b[0;32mnot\u001b[0m \u001b[0;32mNone\u001b[0m\u001b[0;34m:\u001b[0m\u001b[0;34m\u001b[0m\u001b[0;34m\u001b[0m\u001b[0m\n",
            "\u001b[0;31mKeyboardInterrupt\u001b[0m: "
          ]
        }
      ]
    },
    {
      "cell_type": "code",
      "metadata": {
        "colab": {
          "base_uri": "https://localhost:8080/"
        },
        "id": "iLYB-3UyeWVP",
        "outputId": "3c35f6c3-6225-43bc-91ea-02e620046530"
      },
      "source": [
        "# Use data augmentation\n",
        "from tensorflow.keras.preprocessing.image import ImageDataGenerator\n",
        "batch_size = 32\n",
        "data_generator = ImageDataGenerator(width_shift_range=0.1, height_shift_range=0.1, horizontal_flip=True)\n",
        "train_generator = data_generator.flow(x_train, y_train, batch_size)\n",
        "steps_per_epoch = x_train.shape[0] // batch_size\n",
        "# If you run the previous model.fit before this call, it will CONTINUE training where it left off\n",
        "r = model.fit(train_generator, validation_data=(x_test, y_test), steps_per_epoch=steps_per_epoch, epochs=50)"
      ],
      "execution_count": 21,
      "outputs": [
        {
          "output_type": "stream",
          "name": "stdout",
          "text": [
            "Epoch 1/50\n",
            "1562/1562 [==============================] - 58s 37ms/step - loss: 0.6140 - accuracy: 0.7998 - val_loss: 0.5825 - val_accuracy: 0.8095\n",
            "Epoch 2/50\n",
            "1562/1562 [==============================] - 56s 36ms/step - loss: 0.5196 - accuracy: 0.8258 - val_loss: 0.5197 - val_accuracy: 0.8305\n",
            "Epoch 3/50\n",
            "1562/1562 [==============================] - 57s 37ms/step - loss: 0.4853 - accuracy: 0.8353 - val_loss: 0.4787 - val_accuracy: 0.8420\n",
            "Epoch 4/50\n",
            "1562/1562 [==============================] - 57s 36ms/step - loss: 0.4520 - accuracy: 0.8454 - val_loss: 0.5089 - val_accuracy: 0.8318\n",
            "Epoch 5/50\n",
            "1562/1562 [==============================] - 57s 37ms/step - loss: 0.4299 - accuracy: 0.8522 - val_loss: 0.4536 - val_accuracy: 0.8484\n",
            "Epoch 6/50\n",
            "1562/1562 [==============================] - 56s 36ms/step - loss: 0.4089 - accuracy: 0.8602 - val_loss: 0.4646 - val_accuracy: 0.8461\n",
            "Epoch 7/50\n",
            "1562/1562 [==============================] - 57s 36ms/step - loss: 0.3924 - accuracy: 0.8658 - val_loss: 0.5027 - val_accuracy: 0.8376\n",
            "Epoch 8/50\n",
            "1562/1562 [==============================] - 57s 36ms/step - loss: 0.3815 - accuracy: 0.8709 - val_loss: 0.5344 - val_accuracy: 0.8323\n",
            "Epoch 9/50\n",
            "1562/1562 [==============================] - 56s 36ms/step - loss: 0.3614 - accuracy: 0.8772 - val_loss: 0.4714 - val_accuracy: 0.8499\n",
            "Epoch 10/50\n",
            "1562/1562 [==============================] - 56s 36ms/step - loss: 0.3509 - accuracy: 0.8794 - val_loss: 0.4286 - val_accuracy: 0.8572\n",
            "Epoch 11/50\n",
            "1562/1562 [==============================] - 56s 36ms/step - loss: 0.3372 - accuracy: 0.8839 - val_loss: 0.5127 - val_accuracy: 0.8297\n",
            "Epoch 12/50\n",
            "1562/1562 [==============================] - 57s 37ms/step - loss: 0.3285 - accuracy: 0.8888 - val_loss: 0.4069 - val_accuracy: 0.8688\n",
            "Epoch 13/50\n",
            "1562/1562 [==============================] - 58s 37ms/step - loss: 0.3212 - accuracy: 0.8891 - val_loss: 0.4639 - val_accuracy: 0.8498\n",
            "Epoch 14/50\n",
            "1562/1562 [==============================] - 57s 37ms/step - loss: 0.3049 - accuracy: 0.8956 - val_loss: 0.4499 - val_accuracy: 0.8573\n",
            "Epoch 15/50\n",
            "1562/1562 [==============================] - 57s 37ms/step - loss: 0.2970 - accuracy: 0.8986 - val_loss: 0.4280 - val_accuracy: 0.8562\n",
            "Epoch 16/50\n",
            "1562/1562 [==============================] - 57s 36ms/step - loss: 0.2904 - accuracy: 0.8997 - val_loss: 0.4936 - val_accuracy: 0.8426\n",
            "Epoch 17/50\n",
            "1562/1562 [==============================] - 58s 37ms/step - loss: 0.2824 - accuracy: 0.9022 - val_loss: 0.4096 - val_accuracy: 0.8622\n",
            "Epoch 18/50\n",
            "1562/1562 [==============================] - 57s 36ms/step - loss: 0.2719 - accuracy: 0.9070 - val_loss: 0.3856 - val_accuracy: 0.8751\n",
            "Epoch 19/50\n",
            "1562/1562 [==============================] - 58s 37ms/step - loss: 0.2656 - accuracy: 0.9080 - val_loss: 0.4356 - val_accuracy: 0.8602\n",
            "Epoch 20/50\n",
            "1562/1562 [==============================] - 57s 37ms/step - loss: 0.2665 - accuracy: 0.9086 - val_loss: 0.4087 - val_accuracy: 0.8666\n",
            "Epoch 21/50\n",
            "1562/1562 [==============================] - 57s 36ms/step - loss: 0.2594 - accuracy: 0.9123 - val_loss: 0.4018 - val_accuracy: 0.8751\n",
            "Epoch 22/50\n",
            "1562/1562 [==============================] - 57s 37ms/step - loss: 0.2541 - accuracy: 0.9119 - val_loss: 0.4149 - val_accuracy: 0.8703\n",
            "Epoch 23/50\n",
            "1562/1562 [==============================] - 58s 37ms/step - loss: 0.2462 - accuracy: 0.9156 - val_loss: 0.3884 - val_accuracy: 0.8785\n",
            "Epoch 24/50\n",
            "1562/1562 [==============================] - 58s 37ms/step - loss: 0.2397 - accuracy: 0.9177 - val_loss: 0.4201 - val_accuracy: 0.8696\n",
            "Epoch 25/50\n",
            "1562/1562 [==============================] - 58s 37ms/step - loss: 0.2371 - accuracy: 0.9180 - val_loss: 0.4450 - val_accuracy: 0.8602\n",
            "Epoch 26/50\n",
            "1562/1562 [==============================] - 57s 36ms/step - loss: 0.2346 - accuracy: 0.9200 - val_loss: 0.4109 - val_accuracy: 0.8763\n",
            "Epoch 27/50\n",
            "1562/1562 [==============================] - 57s 37ms/step - loss: 0.2197 - accuracy: 0.9250 - val_loss: 0.4170 - val_accuracy: 0.8764\n",
            "Epoch 28/50\n",
            "1562/1562 [==============================] - 57s 36ms/step - loss: 0.2229 - accuracy: 0.9232 - val_loss: 0.3845 - val_accuracy: 0.8778\n",
            "Epoch 29/50\n",
            "1562/1562 [==============================] - 57s 37ms/step - loss: 0.2175 - accuracy: 0.9249 - val_loss: 0.3913 - val_accuracy: 0.8806\n",
            "Epoch 30/50\n",
            "1562/1562 [==============================] - 58s 37ms/step - loss: 0.2150 - accuracy: 0.9274 - val_loss: 0.4029 - val_accuracy: 0.8711\n",
            "Epoch 31/50\n",
            "1562/1562 [==============================] - 58s 37ms/step - loss: 0.2189 - accuracy: 0.9249 - val_loss: 0.4685 - val_accuracy: 0.8663\n",
            "Epoch 32/50\n",
            "1562/1562 [==============================] - 58s 37ms/step - loss: 0.2086 - accuracy: 0.9280 - val_loss: 0.4248 - val_accuracy: 0.8738\n",
            "Epoch 33/50\n",
            "1562/1562 [==============================] - 57s 37ms/step - loss: 0.2009 - accuracy: 0.9304 - val_loss: 0.3967 - val_accuracy: 0.8808\n",
            "Epoch 34/50\n",
            "1562/1562 [==============================] - 58s 37ms/step - loss: 0.2065 - accuracy: 0.9293 - val_loss: 0.3934 - val_accuracy: 0.8834\n",
            "Epoch 35/50\n",
            "1562/1562 [==============================] - 58s 37ms/step - loss: 0.1979 - accuracy: 0.9330 - val_loss: 0.4050 - val_accuracy: 0.8732\n",
            "Epoch 36/50\n",
            "1562/1562 [==============================] - 58s 37ms/step - loss: 0.1966 - accuracy: 0.9338 - val_loss: 0.4046 - val_accuracy: 0.8794\n",
            "Epoch 37/50\n",
            "1562/1562 [==============================] - 58s 37ms/step - loss: 0.1928 - accuracy: 0.9332 - val_loss: 0.3936 - val_accuracy: 0.8773\n",
            "Epoch 38/50\n",
            "1562/1562 [==============================] - 57s 36ms/step - loss: 0.1921 - accuracy: 0.9346 - val_loss: 0.3906 - val_accuracy: 0.8834\n",
            "Epoch 39/50\n",
            "1562/1562 [==============================] - 57s 37ms/step - loss: 0.1862 - accuracy: 0.9367 - val_loss: 0.4020 - val_accuracy: 0.8793\n",
            "Epoch 40/50\n",
            "1562/1562 [==============================] - 57s 37ms/step - loss: 0.1902 - accuracy: 0.9344 - val_loss: 0.4151 - val_accuracy: 0.8755\n",
            "Epoch 41/50\n",
            "1562/1562 [==============================] - 58s 37ms/step - loss: 0.1837 - accuracy: 0.9372 - val_loss: 0.4237 - val_accuracy: 0.8772\n",
            "Epoch 42/50\n",
            "1562/1562 [==============================] - 58s 37ms/step - loss: 0.1817 - accuracy: 0.9377 - val_loss: 0.4333 - val_accuracy: 0.8729\n",
            "Epoch 43/50\n",
            "1562/1562 [==============================] - 58s 37ms/step - loss: 0.1796 - accuracy: 0.9390 - val_loss: 0.4218 - val_accuracy: 0.8864\n",
            "Epoch 44/50\n",
            "1562/1562 [==============================] - 59s 38ms/step - loss: 0.1723 - accuracy: 0.9406 - val_loss: 0.3930 - val_accuracy: 0.8832\n",
            "Epoch 45/50\n",
            "1562/1562 [==============================] - 59s 37ms/step - loss: 0.1765 - accuracy: 0.9398 - val_loss: 0.3939 - val_accuracy: 0.8838\n",
            "Epoch 46/50\n",
            "1562/1562 [==============================] - 59s 38ms/step - loss: 0.1659 - accuracy: 0.9424 - val_loss: 0.3942 - val_accuracy: 0.8886\n",
            "Epoch 47/50\n",
            "1562/1562 [==============================] - 59s 38ms/step - loss: 0.1728 - accuracy: 0.9418 - val_loss: 0.3819 - val_accuracy: 0.8887\n",
            "Epoch 48/50\n",
            "1562/1562 [==============================] - 58s 37ms/step - loss: 0.1750 - accuracy: 0.9411 - val_loss: 0.4250 - val_accuracy: 0.8824\n",
            "Epoch 49/50\n",
            "1562/1562 [==============================] - 59s 38ms/step - loss: 0.1668 - accuracy: 0.9434 - val_loss: 0.4193 - val_accuracy: 0.8842\n",
            "Epoch 50/50\n",
            "1562/1562 [==============================] - 59s 38ms/step - loss: 0.1673 - accuracy: 0.9427 - val_loss: 0.4082 - val_accuracy: 0.8839\n"
          ]
        }
      ]
    },
    {
      "cell_type": "markdown",
      "metadata": {
        "id": "m2TZ6PNuQ_EM"
      },
      "source": [
        "# Plot model accuracy and loss"
      ]
    },
    {
      "cell_type": "code",
      "metadata": {
        "id": "nUS84bC8RAA-",
        "colab": {
          "base_uri": "https://localhost:8080/",
          "height": 530
        },
        "outputId": "09c3e114-a326-4f34-e34e-0c4d0a5d8bc6"
      },
      "source": [
        "# plot accuracy and loss\n",
        "import matplotlib.pyplot as plt\n",
        "plt.figure(1)\n",
        "plt.plot(r.history['loss'], label='loss')\n",
        "plt.plot(r.history['val_loss'], label='val_loss')\n",
        "plt.legend()\n",
        "\n",
        "plt.figure(2)\n",
        "plt.plot(r.history['accuracy'], label='accuracy')\n",
        "plt.plot(r.history['val_accuracy'], label='val_accuracy')\n",
        "plt.legend()"
      ],
      "execution_count": 22,
      "outputs": [
        {
          "output_type": "execute_result",
          "data": {
            "text/plain": [
              "<matplotlib.legend.Legend at 0x7f1f0bf5cf10>"
            ]
          },
          "metadata": {},
          "execution_count": 22
        },
        {
          "output_type": "display_data",
          "data": {
            "image/png": "[encoded data removed]",
            "text/plain": [
              "<Figure size 432x288 with 1 Axes>"
            ]
          },
          "metadata": {
            "needs_background": "light"
          }
        },
        {
          "output_type": "display_data",
          "data": {
            "image/png": "[encoded data removed]",
            "text/plain": [
              "<Figure size 432x288 with 1 Axes>"
            ]
          },
          "metadata": {
            "needs_background": "light"
          }
        }
      ]
    },
    {
      "cell_type": "markdown",
      "metadata": {
        "id": "yQkzJyshRNgI"
      },
      "source": [
        "# Model summary"
      ]
    },
    {
      "cell_type": "code",
      "metadata": {
        "id": "J0WcBGs2RPxJ"
      },
      "source": [
        "model.summary()"
      ],
      "execution_count": null,
      "outputs": []
    }
  ]
}