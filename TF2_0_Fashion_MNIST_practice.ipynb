{
  "nbformat": 4,
  "nbformat_minor": 0,
  "metadata": {
    "colab": {
      "name": "TF2.0 Fashion MNIST practice.ipynb",
      "provenance": [],
      "authorship_tag": "ABX9TyMnnlyBQCo4J+BxTYhdhJEk",
      "include_colab_link": true
    },
    "kernelspec": {
      "name": "python3",
      "display_name": "Python 3"
    },
    "language_info": {
      "name": "python"
    }
  },
  "cells": [
    {
      "cell_type": "markdown",
      "metadata": {
        "id": "view-in-github",
        "colab_type": "text"
      },
      "source": [
        "<a href=\"https://colab.research.google.com/github/bluelikemilk/DL_AdvancedComptuerVision/blob/main/TF2_0_Fashion_MNIST_practice.ipynb\" target=\"_parent\"><img src=\"https://colab.research.google.com/assets/colab-badge.svg\" alt=\"Open In Colab\"/></a>"
      ]
    },
    {
      "cell_type": "code",
      "metadata": {
        "colab": {
          "base_uri": "https://localhost:8080/"
        },
        "id": "K2O2MfW6tUsA",
        "outputId": "ca8086c6-5fc2-4813-935e-75717a9fef19"
      },
      "source": [
        "try:\n",
        "  %tensorflow_version 2.x\n",
        "except Exception:\n",
        "  pass\n",
        "\n",
        "import tensorflow as tf\n",
        "print(tf.__version__)"
      ],
      "execution_count": 1,
      "outputs": [
        {
          "output_type": "stream",
          "name": "stdout",
          "text": [
            "2.7.0\n"
          ]
        }
      ]
    },
    {
      "cell_type": "markdown",
      "metadata": {
        "id": "OsPuHs_3trO-"
      },
      "source": [
        "# Load data"
      ]
    },
    {
      "cell_type": "code",
      "metadata": {
        "id": "ZA8WMFBWtqEk"
      },
      "source": [
        "import numpy as np\n",
        "import matplotlib.pyplot as plt\n",
        "from tensorflow.keras.layers import Input, Conv2D, Dense, Flatten, Dropout\n",
        "from tensorflow.keras.models import Model "
      ],
      "execution_count": 7,
      "outputs": []
    },
    {
      "cell_type": "code",
      "metadata": {
        "colab": {
          "base_uri": "https://localhost:8080/"
        },
        "id": "rgUhFyokuB_i",
        "outputId": "452e66ff-6240-4b9b-e817-bbeb3bebcd82"
      },
      "source": [
        "fashion_mnist = tf.keras.datasets.fashion_mnist\n",
        "# load train and test data\n",
        "(x_train, y_train), (x_test, y_test) = fashion_mnist.load_data()\n",
        "# normalize the image intensity\n",
        "x_train = x_train/255.0\n",
        "x_test = x_test/255.0\n",
        "# print out the data size\n",
        "print('x_train.shape is ', x_train.shape)\n"
      ],
      "execution_count": 11,
      "outputs": [
        {
          "output_type": "stream",
          "name": "stdout",
          "text": [
            "x_train.shape is  (60000, 28, 28)\n"
          ]
        }
      ]
    },
    {
      "cell_type": "code",
      "metadata": {
        "colab": {
          "base_uri": "https://localhost:8080/"
        },
        "id": "RRqDMIOpu5sk",
        "outputId": "d9b17cb1-ba88-4adb-a573-893532f7fc3f"
      },
      "source": [
        " # each image is 28 x 28 gray image, but conv2D also need channel dimension. \n",
        " # So we need to expand dimension from N x H x W into N x H x W x C where C=1\n",
        "x_train = np.expand_dims(x_train, -1)\n",
        "x_test = np.expand_dims(x_test, -1)\n",
        "# print out the expanded data size\n",
        "print('x_train.shape is ', x_train.shape)"
      ],
      "execution_count": 12,
      "outputs": [
        {
          "output_type": "stream",
          "name": "stdout",
          "text": [
            "x_train.shape is  (60000, 28, 28, 1)\n"
          ]
        }
      ]
    },
    {
      "cell_type": "code",
      "metadata": {
        "colab": {
          "base_uri": "https://localhost:8080/"
        },
        "id": "cWopHnh2vY3O",
        "outputId": "d8b92914-03bf-45bc-8ed4-e618795404fd"
      },
      "source": [
        "# get the number of class\n",
        "K = len(set(y_train)) # store all labels into a set to ignore same values\n",
        "print('Number of class is ', K)"
      ],
      "execution_count": 14,
      "outputs": [
        {
          "output_type": "stream",
          "name": "stdout",
          "text": [
            "Number of class is  10\n"
          ]
        }
      ]
    },
    {
      "cell_type": "markdown",
      "metadata": {
        "id": "ni2op9jQvrq5"
      },
      "source": [
        "# Build the model"
      ]
    },
    {
      "cell_type": "code",
      "metadata": {
        "id": "_DLwrDvPvtLU"
      },
      "source": [
        "# use functional API to build CNN model\n",
        "i = Input(shape=(x_train[0].shape)) # input shape is H x W x C\n",
        "x = Conv2D(32, (3, 3), strides=2, activation='relu')(i) # first strided Conv layer, 32 feature maps, filter size 3 x 3\n",
        "x = Conv2D(64, (3, 3), strides=2, activation='relu')(x) # second strided Conv layer\n",
        "x = Conv2D(128, (3, 3), strides=2, activation='relu')(x) # third strided Conv layer\n",
        "x = Flatten()(x) # flattern to prepare for dense layer\n",
        "x = Dropout(0.2)(x) # dropout 20% to reduce overfitting\n",
        "x = Dense(512, activation='relu')(x) # first Fully connected layer\n",
        "x = Dropout(0.2)(x) # dropout 20% to reduce overfitting\n",
        "x = Dense(K, activation='softmax')(x) # last Fully connected layer to generate K different classes\n",
        "\n",
        "model = Model(i, x) # stack all layers to build the model"
      ],
      "execution_count": 16,
      "outputs": []
    },
    {
      "cell_type": "code",
      "metadata": {
        "colab": {
          "base_uri": "https://localhost:8080/"
        },
        "id": "gMMaZJPRyKqR",
        "outputId": "c7f19640-a2e0-4bfe-fa4f-f8f7a16fda91"
      },
      "source": [
        "# compile the model\n",
        "model.compile(optimizer='adam', loss='sparse_categorical_crossentropy',\n",
        "              metrics=['accuracy'])\n",
        "# fit the model\n",
        "r = model.fit(x_train, y_train, validation_data=(x_test, y_test), epochs=15)"
      ],
      "execution_count": 17,
      "outputs": [
        {
          "output_type": "stream",
          "name": "stdout",
          "text": [
            "Epoch 1/15\n",
            "1875/1875 [==============================] - 26s 13ms/step - loss: 0.5144 - accuracy: 0.8099 - val_loss: 0.3928 - val_accuracy: 0.8567\n",
            "Epoch 2/15\n",
            "1875/1875 [==============================] - 25s 13ms/step - loss: 0.3596 - accuracy: 0.8642 - val_loss: 0.3430 - val_accuracy: 0.8700\n",
            "Epoch 3/15\n",
            "1875/1875 [==============================] - 25s 13ms/step - loss: 0.3096 - accuracy: 0.8834 - val_loss: 0.3173 - val_accuracy: 0.8839\n",
            "Epoch 4/15\n",
            "1875/1875 [==============================] - 24s 13ms/step - loss: 0.2781 - accuracy: 0.8944 - val_loss: 0.3089 - val_accuracy: 0.8868\n",
            "Epoch 5/15\n",
            "1875/1875 [==============================] - 25s 13ms/step - loss: 0.2522 - accuracy: 0.9046 - val_loss: 0.2963 - val_accuracy: 0.8952\n",
            "Epoch 6/15\n",
            "1875/1875 [==============================] - 25s 13ms/step - loss: 0.2302 - accuracy: 0.9135 - val_loss: 0.2956 - val_accuracy: 0.8957\n",
            "Epoch 7/15\n",
            "1875/1875 [==============================] - 25s 13ms/step - loss: 0.2123 - accuracy: 0.9186 - val_loss: 0.3011 - val_accuracy: 0.8919\n",
            "Epoch 8/15\n",
            "1875/1875 [==============================] - 24s 13ms/step - loss: 0.1938 - accuracy: 0.9257 - val_loss: 0.3027 - val_accuracy: 0.8975\n",
            "Epoch 9/15\n",
            "1875/1875 [==============================] - 24s 13ms/step - loss: 0.1791 - accuracy: 0.9314 - val_loss: 0.3033 - val_accuracy: 0.8989\n",
            "Epoch 10/15\n",
            "1875/1875 [==============================] - 25s 13ms/step - loss: 0.1679 - accuracy: 0.9354 - val_loss: 0.3217 - val_accuracy: 0.8982\n",
            "Epoch 11/15\n",
            "1875/1875 [==============================] - 25s 13ms/step - loss: 0.1562 - accuracy: 0.9402 - val_loss: 0.3209 - val_accuracy: 0.8978\n",
            "Epoch 12/15\n",
            "1875/1875 [==============================] - 25s 13ms/step - loss: 0.1476 - accuracy: 0.9439 - val_loss: 0.3262 - val_accuracy: 0.9016\n",
            "Epoch 13/15\n",
            "1875/1875 [==============================] - 25s 13ms/step - loss: 0.1383 - accuracy: 0.9464 - val_loss: 0.3494 - val_accuracy: 0.8978\n",
            "Epoch 14/15\n",
            "1875/1875 [==============================] - 25s 13ms/step - loss: 0.1310 - accuracy: 0.9495 - val_loss: 0.3432 - val_accuracy: 0.8980\n",
            "Epoch 15/15\n",
            "1875/1875 [==============================] - 25s 13ms/step - loss: 0.1244 - accuracy: 0.9514 - val_loss: 0.3890 - val_accuracy: 0.8936\n"
          ]
        }
      ]
    },
    {
      "cell_type": "code",
      "metadata": {
        "colab": {
          "base_uri": "https://localhost:8080/",
          "height": 530
        },
        "id": "Mmkk57YZzSe2",
        "outputId": "4db53a26-f5ab-41d8-a25f-3e064c3656b2"
      },
      "source": [
        "# plot loss and accuracy per epoch\n",
        "plt.figure(1)\n",
        "plt.plot(r.history['loss'], label='loss')\n",
        "plt.plot(r.history['val_loss'], label='val_loss')\n",
        "plt.legend()\n",
        "\n",
        "plt.figure(2)\n",
        "plt.plot(r.history['accuracy'], label='accuracy')\n",
        "plt.plot(r.history['val_accuracy'], label='val_accuracy')\n",
        "plt.legend()"
      ],
      "execution_count": 19,
      "outputs": [
        {
          "output_type": "execute_result",
          "data": {
            "text/plain": [
              "<matplotlib.legend.Legend at 0x7f94d899bc10>"
            ]
          },
          "metadata": {},
          "execution_count": 19
        },
        {
          "output_type": "display_data",
          "data": {
            "image/png": "[encoded data removed]",
            "text/plain": [
              "<Figure size 432x288 with 1 Axes>"
            ]
          },
          "metadata": {
            "needs_background": "light"
          }
        },
        {
          "output_type": "display_data",
          "data": {
            "image/png": "[encoded data removed]",
            "text/plain": [
              "<Figure size 432x288 with 1 Axes>"
            ]
          },
          "metadata": {
            "needs_background": "light"
          }
        }
      ]
    },
    {
      "cell_type": "markdown",
      "metadata": {
        "id": "Hc7321Ef1baE"
      },
      "source": [
        "# Plot misclassified label and examples"
      ]
    },
    {
      "cell_type": "code",
      "metadata": {
        "colab": {
          "base_uri": "https://localhost:8080/",
          "height": 498
        },
        "id": "ruYCUnLx1h38",
        "outputId": "b3f492d9-2c45-407f-ec2f-f0862c104590"
      },
      "source": [
        "# plot confusion matrix\n",
        "from sklearn.metrics import confusion_matrix\n",
        "import itertools\n",
        "\n",
        "def plot_confusion_matrix (cm, classes, normalize=False, \n",
        "                           title='Confusion matrix', \n",
        "                           cmap=plt.cm.Blues):\n",
        "  if normalize:\n",
        "    cm = cm.astype('float') / cm.sum(axis=1)[:, np.newaxis]\n",
        "    print('Normalized confusion matrix')\n",
        "  else:\n",
        "    print('Confusion matrix, without normalization')\n",
        "\n",
        "  print(cm)\n",
        "\n",
        "  plt.imshow(cm, interpolation='nearest', cmap=cmap)\n",
        "  plt.title(title)\n",
        "  plt.colorbar()\n",
        "  tick_marks = np.arange(len(classes))\n",
        "  plt.xticks(tick_marks, classes, rotation=45)\n",
        "  plt.yticks(tick_marks, classes)\n",
        "\n",
        "  fmt = '.2f' if normalize else 'd'\n",
        "  thresh = cm.max() / 2.\n",
        "  for i, j in itertools.product(range(cm.shape[0]), range(cm.shape[1])):\n",
        "    plt.text(j, i, format(cm[i, j], fmt),\n",
        "             horizontalalignment=\"center\",\n",
        "             color=\"white\" if cm[j, i] > thresh else \"black\")\n",
        "  \n",
        "  plt.tight_layout()\n",
        "  plt.ylabel('True label')\n",
        "  plt.xlabel('Predicted label')\n",
        "  plt.show()\n",
        "\n",
        "\n",
        "\n",
        "p_test = model.predict(x_test).argmax(axis=1) # predict will give each class a probability, and we find the index of max value of each row as the final prediction class\n",
        "cm = confusion_matrix(y_test, p_test) # calculate confusion_matrix\n",
        "plot_confusion_matrix(cm, list(range(K))) # plot the matrix"
      ],
      "execution_count": 30,
      "outputs": [
        {
          "output_type": "stream",
          "name": "stdout",
          "text": [
            "Confusion matrix, without normalization\n",
            "[[872   1  17  10   2   1  88   0   9   0]\n",
            " [  6 968   1  15   4   1   4   0   1   0]\n",
            " [ 23   0 866  11  38   0  59   0   3   0]\n",
            " [ 14   3  22 881  54   0  24   0   2   0]\n",
            " [  0   1  91  10 813   0  80   0   5   0]\n",
            " [  0   0   0   0   0 956   0  32   1  11]\n",
            " [129   1  67  18  87   0 684   0  14   0]\n",
            " [  0   0   0   0   0   4   0 982   0  14]\n",
            " [  2   0   2   3   6   3   4   3 976   1]\n",
            " [  1   0   0   0   0   8   0  52   1 938]]\n"
          ]
        },
        {
          "output_type": "display_data",
          "data": {
            "image/png": "[encoded data removed]",
            "text/plain": [
              "<Figure size 432x288 with 2 Axes>"
            ]
          },
          "metadata": {
            "needs_background": "light"
          }
        }
      ]
    },
    {
      "cell_type": "code",
      "metadata": {
        "colab": {
          "base_uri": "https://localhost:8080/",
          "height": 281
        },
        "id": "5uQ8qkbA4840",
        "outputId": "8d584e0f-8335-4ee4-83d1-188d0e7c2500"
      },
      "source": [
        "# plot label name to see which label is confused\n",
        "labels = '''T-shirt/top\n",
        "Trouser\n",
        "Pullover\n",
        "Dress\n",
        "Coat\n",
        "Sandal\n",
        "Shirt\n",
        "Sneaker\n",
        "Bag\n",
        "Ankle boot'''.split(\"\\n\")\n",
        "\n",
        "# Show some misclassified examples\n",
        "misclassified_idx = np.where(p_test != y_test)[0]\n",
        "i = np.random.choice(misclassified_idx)\n",
        "plt.imshow(x_test[i].reshape(28,28), cmap='gray')\n",
        "plt.title(\"True label: %s Predicted: %s\" % (labels[y_test[i]], labels[p_test[i]]));"
      ],
      "execution_count": 32,
      "outputs": [
        {
          "output_type": "display_data",
          "data": {
            "image/png": "[encoded data removed]",
            "text/plain": [
              "<Figure size 432x288 with 1 Axes>"
            ]
          },
          "metadata": {
            "needs_background": "light"
          }
        }
      ]
    }
  ]
}