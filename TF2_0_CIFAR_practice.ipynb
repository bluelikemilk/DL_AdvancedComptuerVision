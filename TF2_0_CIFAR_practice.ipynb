{
  "nbformat": 4,
  "nbformat_minor": 0,
  "metadata": {
    "colab": {
      "name": "TF2.0 CIFAR practice.ipynb",
      "provenance": [],
      "collapsed_sections": [],
      "authorship_tag": "ABX9TyOYs0uc4zjp85UzddE4cXrG",
      "include_colab_link": true
    },
    "kernelspec": {
      "name": "python3",
      "display_name": "Python 3"
    },
    "language_info": {
      "name": "python"
    },
    "accelerator": "GPU"
  },
  "cells": [
    {
      "cell_type": "markdown",
      "metadata": {
        "id": "view-in-github",
        "colab_type": "text"
      },
      "source": [
        "<a href=\"https://colab.research.google.com/github/bluelikemilk/DL_AdvancedComptuerVision/blob/main/TF2_0_CIFAR_practice.ipynb\" target=\"_parent\"><img src=\"https://colab.research.google.com/assets/colab-badge.svg\" alt=\"Open In Colab\"/></a>"
      ]
    },
    {
      "cell_type": "code",
      "metadata": {
        "colab": {
          "base_uri": "https://localhost:8080/"
        },
        "id": "2aOrj-Q1dICW",
        "outputId": "087f63f7-0849-4019-d6d8-30be7f226aa2"
      },
      "source": [
        "try:\n",
        "  %tensorflow_version 2.x\n",
        "except Exception:\n",
        "  pass\n",
        "\n",
        "import tensorflow as tf\n",
        "print(tf.__version__)"
      ],
      "execution_count": 1,
      "outputs": [
        {
          "output_type": "stream",
          "name": "stdout",
          "text": [
            "2.7.0\n"
          ]
        }
      ]
    },
    {
      "cell_type": "markdown",
      "metadata": {
        "id": "o0BeOnHFdyLr"
      },
      "source": [
        "# Load data"
      ]
    },
    {
      "cell_type": "code",
      "metadata": {
        "id": "aKv5NTDmeRGh"
      },
      "source": [
        "import numpy as np\n",
        "from tensorflow.keras.layers import Input, Dense, Conv2D, Dropout, Flatten\n",
        "from tensorflow.keras.models import Model"
      ],
      "execution_count": 2,
      "outputs": []
    },
    {
      "cell_type": "code",
      "metadata": {
        "colab": {
          "base_uri": "https://localhost:8080/"
        },
        "id": "pxaGv8AKdlAW",
        "outputId": "c71b65f0-706b-4506-ff4a-322e93cc81e5"
      },
      "source": [
        "cifar10 = tf.keras.datasets.cifar10\n",
        "(x_train, y_train), (x_test, y_test) = cifar10.load_data()"
      ],
      "execution_count": 3,
      "outputs": [
        {
          "output_type": "stream",
          "name": "stdout",
          "text": [
            "Downloading data from https://www.cs.toronto.edu/~kriz/cifar-10-python.tar.gz\n",
            "170500096/170498071 [==============================] - 3s 0us/step\n",
            "170508288/170498071 [==============================] - 3s 0us/step\n"
          ]
        }
      ]
    },
    {
      "cell_type": "code",
      "metadata": {
        "colab": {
          "base_uri": "https://localhost:8080/"
        },
        "id": "WMul_OiieGV5",
        "outputId": "bf7e5716-9c55-49c6-cf94-f0903db18fe5"
      },
      "source": [
        "# print the size of input and output\n",
        "print('Input image shape: ', x_train[0].shape)\n",
        "# normalize input data \n",
        "x_train = x_train / 255.0\n",
        "x_test = x_test / 255.0\n",
        "# calculate the number of class\n",
        "K = len(set(y_train[:,0]))\n",
        "print(\"Number of class: \", K)"
      ],
      "execution_count": 4,
      "outputs": [
        {
          "output_type": "stream",
          "name": "stdout",
          "text": [
            "Input image shape:  (32, 32, 3)\n",
            "Number of class:  10\n"
          ]
        }
      ]
    },
    {
      "cell_type": "markdown",
      "metadata": {
        "id": "4P31hr51gOtK"
      },
      "source": [
        "# Build the model\n"
      ]
    },
    {
      "cell_type": "code",
      "metadata": {
        "id": "_8X4tn2qgRtl"
      },
      "source": [
        "# model layers\n",
        "i = Input(shape=x_train[0].shape)\n",
        "x = Conv2D(32, (3,3), strides=2, activation='relu')(i)\n",
        "x = Conv2D(64, (3,3), strides=2, activation='relu')(x)\n",
        "x = Conv2D(128, (3,3), strides=2, activation='relu')(x)\n",
        "x = Flatten()(x)\n",
        "x = Dropout(0.5)(x)\n",
        "x = Dense(1024, activation='relu')(x)\n",
        "x = Dropout(0.2)(x)\n",
        "x = Dense(K, activation='softmax')(x)\n",
        "\n",
        "model = Model(i, x)"
      ],
      "execution_count": 5,
      "outputs": []
    },
    {
      "cell_type": "code",
      "metadata": {
        "colab": {
          "base_uri": "https://localhost:8080/"
        },
        "id": "lkxnvzbrhsAT",
        "outputId": "789b5559-4551-486c-ba6b-e22d6c0ce65c"
      },
      "source": [
        "# compile model\n",
        "model.compile(optimizer='adam',\n",
        "              loss = 'sparse_categorical_crossentropy',\n",
        "              metrics=['accuracy'])\n",
        "# fit the model\n",
        "r = model.fit(x_train, y_train, validation_data=(x_test, y_test), epochs=15)"
      ],
      "execution_count": 6,
      "outputs": [
        {
          "output_type": "stream",
          "name": "stdout",
          "text": [
            "Epoch 1/15\n",
            "1563/1563 [==============================] - 44s 9ms/step - loss: 1.5574 - accuracy: 0.4300 - val_loss: 1.3421 - val_accuracy: 0.5168\n",
            "Epoch 2/15\n",
            "1563/1563 [==============================] - 13s 8ms/step - loss: 1.2666 - accuracy: 0.5463 - val_loss: 1.1350 - val_accuracy: 0.6007\n",
            "Epoch 3/15\n",
            "1563/1563 [==============================] - 13s 8ms/step - loss: 1.1329 - accuracy: 0.5943 - val_loss: 1.0499 - val_accuracy: 0.6264\n",
            "Epoch 4/15\n",
            "1563/1563 [==============================] - 13s 8ms/step - loss: 1.0389 - accuracy: 0.6299 - val_loss: 0.9948 - val_accuracy: 0.6541\n",
            "Epoch 5/15\n",
            "1563/1563 [==============================] - 13s 8ms/step - loss: 0.9683 - accuracy: 0.6539 - val_loss: 0.9106 - val_accuracy: 0.6891\n",
            "Epoch 6/15\n",
            "1563/1563 [==============================] - 13s 9ms/step - loss: 0.8986 - accuracy: 0.6801 - val_loss: 0.8974 - val_accuracy: 0.6888\n",
            "Epoch 7/15\n",
            "1563/1563 [==============================] - 13s 9ms/step - loss: 0.8490 - accuracy: 0.6974 - val_loss: 0.8862 - val_accuracy: 0.6901\n",
            "Epoch 8/15\n",
            "1563/1563 [==============================] - 13s 9ms/step - loss: 0.8057 - accuracy: 0.7138 - val_loss: 0.8355 - val_accuracy: 0.7096\n",
            "Epoch 9/15\n",
            "1563/1563 [==============================] - 13s 9ms/step - loss: 0.7716 - accuracy: 0.7259 - val_loss: 0.8281 - val_accuracy: 0.7151\n",
            "Epoch 10/15\n",
            "1563/1563 [==============================] - 13s 9ms/step - loss: 0.7346 - accuracy: 0.7393 - val_loss: 0.8250 - val_accuracy: 0.7164\n",
            "Epoch 11/15\n",
            "1563/1563 [==============================] - 14s 9ms/step - loss: 0.7080 - accuracy: 0.7458 - val_loss: 0.8500 - val_accuracy: 0.7051\n",
            "Epoch 12/15\n",
            "1563/1563 [==============================] - 13s 9ms/step - loss: 0.6868 - accuracy: 0.7564 - val_loss: 0.8123 - val_accuracy: 0.7180\n",
            "Epoch 13/15\n",
            "1563/1563 [==============================] - 13s 9ms/step - loss: 0.6626 - accuracy: 0.7657 - val_loss: 0.8505 - val_accuracy: 0.7052\n",
            "Epoch 14/15\n",
            "1563/1563 [==============================] - 13s 9ms/step - loss: 0.6435 - accuracy: 0.7707 - val_loss: 0.8083 - val_accuracy: 0.7212\n",
            "Epoch 15/15\n",
            "1563/1563 [==============================] - 14s 9ms/step - loss: 0.6278 - accuracy: 0.7763 - val_loss: 0.8089 - val_accuracy: 0.7196\n"
          ]
        }
      ]
    },
    {
      "cell_type": "markdown",
      "metadata": {
        "id": "wLMTBggB2qQ9"
      },
      "source": [
        "# Plot model accuracy and loss"
      ]
    },
    {
      "cell_type": "code",
      "metadata": {
        "colab": {
          "base_uri": "https://localhost:8080/",
          "height": 534
        },
        "id": "VxkHyTEW2vNX",
        "outputId": "27f525ad-cf43-4dc2-a4c7-e4d7fdf8e0f0"
      },
      "source": [
        "# plot accuracy and loss\n",
        "import matplotlib.pyplot as plt\n",
        "plt.figure(1)\n",
        "plt.plot(r.history['loss'], label='loss')\n",
        "plt.plot(r.history['val_loss'], label='val_loss')\n",
        "plt.legend()\n",
        "\n",
        "plt.figure(2)\n",
        "plt.plot(r.history['accuracy'], label='accuracy')\n",
        "plt.plot(r.history['val_accuracy'], label='val_accuracy')\n",
        "plt.legend()\n"
      ],
      "execution_count": 9,
      "outputs": [
        {
          "output_type": "execute_result",
          "data": {
            "text/plain": [
              "<matplotlib.legend.Legend at 0x7f8be76a3e10>"
            ]
          },
          "metadata": {},
          "execution_count": 9
        },
        {
          "output_type": "display_data",
          "data": {
            "image/png": "[encoded data removed]",
            "text/plain": [
              "<Figure size 432x288 with 1 Axes>"
            ]
          },
          "metadata": {
            "needs_background": "light"
          }
        },
        {
          "output_type": "display_data",
          "data": {
            "image/png": "[encoded data removed]",
            "text/plain": [
              "<Figure size 432x288 with 1 Axes>"
            ]
          },
          "metadata": {
            "needs_background": "light"
          }
        }
      ]
    }
  ]
}